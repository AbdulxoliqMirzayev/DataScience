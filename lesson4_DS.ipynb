{
  "nbformat": 4,
  "nbformat_minor": 0,
  "metadata": {
    "colab": {
      "provenance": [],
      "authorship_tag": "ABX9TyPrFiyGDshxzT3CiqpuHuMw",
      "include_colab_link": true
    },
    "kernelspec": {
      "name": "python3",
      "display_name": "Python 3"
    },
    "language_info": {
      "name": "python"
    }
  },
  "cells": [
    {
      "cell_type": "markdown",
      "metadata": {
        "id": "view-in-github",
        "colab_type": "text"
      },
      "source": [
        "<a href=\"https://colab.research.google.com/github/AbdulxoliqMirzayev/DataScience/blob/main/lesson4_DS.ipynb\" target=\"_parent\"><img src=\"https://colab.research.google.com/assets/colab-badge.svg\" alt=\"Open In Colab\"/></a>"
      ]
    },
    {
      "cell_type": "markdown",
      "source": [
        "#Boolean Indexlash"
      ],
      "metadata": {
        "id": "159-56tC_ByG"
      }
    },
    {
      "cell_type": "code",
      "source": [
        "import numpy as np"
      ],
      "metadata": {
        "id": "WKByMrFI_GN5"
      },
      "execution_count": 1,
      "outputs": []
    },
    {
      "cell_type": "code",
      "source": [
        "names = np.array(['Hasan', 'Husan', 'Mirzabek', 'Elyor', 'Mansur','Javohir','Alisher'])\n",
        "names"
      ],
      "metadata": {
        "colab": {
          "base_uri": "https://localhost:8080/"
        },
        "id": "GUcwzJGz_LMs",
        "outputId": "61a56296-0f03-4217-b554-957c20c13243"
      },
      "execution_count": 2,
      "outputs": [
        {
          "output_type": "execute_result",
          "data": {
            "text/plain": [
              "array(['Hasan', 'Husan', 'Mirzabek', 'Elyor', 'Mansur', 'Javohir',\n",
              "       'Alisher'], dtype='<U8')"
            ]
          },
          "metadata": {},
          "execution_count": 2
        }
      ]
    },
    {
      "cell_type": "code",
      "source": [
        "# data\n",
        "data = np.random.randn(7,4)\n",
        "data"
      ],
      "metadata": {
        "colab": {
          "base_uri": "https://localhost:8080/"
        },
        "id": "DOoVOfvm_m8z",
        "outputId": "6f2e491c-5fac-4e79-9cd4-b4df7a6bfc12"
      },
      "execution_count": 3,
      "outputs": [
        {
          "output_type": "execute_result",
          "data": {
            "text/plain": [
              "array([[ 0.24228304,  2.30128662, -1.17655999, -0.18310711],\n",
              "       [ 1.46105265,  0.82197193, -0.1709851 , -0.03835451],\n",
              "       [ 0.30206235, -0.72092843, -1.94127293, -1.11370714],\n",
              "       [ 0.78563692,  0.57227399,  1.30874024, -1.33486272],\n",
              "       [-0.31153012,  3.31811973, -1.28405102,  1.15332078],\n",
              "       [ 0.3417003 ,  2.38372316, -1.48442199, -0.93618057],\n",
              "       [ 0.83892115, -1.38342366, -0.53232165, -0.00804731]])"
            ]
          },
          "metadata": {},
          "execution_count": 3
        }
      ]
    },
    {
      "cell_type": "code",
      "source": [
        "names == 'Hasan'"
      ],
      "metadata": {
        "colab": {
          "base_uri": "https://localhost:8080/"
        },
        "id": "SNL2pntA_vV7",
        "outputId": "b967e8db-5557-453e-9ab4-8770b451fea1"
      },
      "execution_count": 4,
      "outputs": [
        {
          "output_type": "execute_result",
          "data": {
            "text/plain": [
              "array([ True, False, False, False, False, False, False])"
            ]
          },
          "metadata": {},
          "execution_count": 4
        }
      ]
    },
    {
      "cell_type": "code",
      "source": [
        "data[names=='Hasan'] # hasanga tegishli barcha malumotlarni kesib olish"
      ],
      "metadata": {
        "colab": {
          "base_uri": "https://localhost:8080/"
        },
        "id": "zTGTEPm9AYRt",
        "outputId": "2990dbea-d910-4551-dc56-010b5533b5c3"
      },
      "execution_count": 5,
      "outputs": [
        {
          "output_type": "execute_result",
          "data": {
            "text/plain": [
              "array([[ 0.24228304,  2.30128662, -1.17655999, -0.18310711]])"
            ]
          },
          "metadata": {},
          "execution_count": 5
        }
      ]
    },
    {
      "cell_type": "code",
      "source": [
        "data[names=='Alisher'] # Alisherga tegishli malumotlarni ajratib olish"
      ],
      "metadata": {
        "colab": {
          "base_uri": "https://localhost:8080/"
        },
        "id": "QOgG4gn_AjEy",
        "outputId": "da377cca-d115-4446-fd31-c1c4fafaa3c1"
      },
      "execution_count": 6,
      "outputs": [
        {
          "output_type": "execute_result",
          "data": {
            "text/plain": [
              "array([[ 0.83892115, -1.38342366, -0.53232165, -0.00804731]])"
            ]
          },
          "metadata": {},
          "execution_count": 6
        }
      ]
    },
    {
      "cell_type": "code",
      "source": [
        "data[names =='Hasan',2:] # hasanga tegishli oxirgi 2 ta stundagi malumotlarni ajratib olish"
      ],
      "metadata": {
        "colab": {
          "base_uri": "https://localhost:8080/"
        },
        "id": "sL0NnbyyAuFp",
        "outputId": "444869d6-e8fe-4ef4-e6ec-2adc48cc626d"
      },
      "execution_count": 7,
      "outputs": [
        {
          "output_type": "execute_result",
          "data": {
            "text/plain": [
              "array([[-1.17655999, -0.18310711]])"
            ]
          },
          "metadata": {},
          "execution_count": 7
        }
      ]
    },
    {
      "cell_type": "code",
      "source": [
        "data[names =='Alisher', :2]"
      ],
      "metadata": {
        "colab": {
          "base_uri": "https://localhost:8080/"
        },
        "id": "BwUSPpdLBATO",
        "outputId": "b8ebac2b-4caa-4815-8b71-8938045a27e6"
      },
      "execution_count": 8,
      "outputs": [
        {
          "output_type": "execute_result",
          "data": {
            "text/plain": [
              "array([[ 0.83892115, -1.38342366]])"
            ]
          },
          "metadata": {},
          "execution_count": 8
        }
      ]
    },
    {
      "cell_type": "code",
      "source": [
        "data[names!='Hasan'] # (!=) hasandan tashqari barcha insonlarni ajratib olish"
      ],
      "metadata": {
        "colab": {
          "base_uri": "https://localhost:8080/"
        },
        "id": "JJIRhojPBTuA",
        "outputId": "0f6581e5-3623-443c-a5d0-b95f837ea376"
      },
      "execution_count": 9,
      "outputs": [
        {
          "output_type": "execute_result",
          "data": {
            "text/plain": [
              "array([[ 1.46105265,  0.82197193, -0.1709851 , -0.03835451],\n",
              "       [ 0.30206235, -0.72092843, -1.94127293, -1.11370714],\n",
              "       [ 0.78563692,  0.57227399,  1.30874024, -1.33486272],\n",
              "       [-0.31153012,  3.31811973, -1.28405102,  1.15332078],\n",
              "       [ 0.3417003 ,  2.38372316, -1.48442199, -0.93618057],\n",
              "       [ 0.83892115, -1.38342366, -0.53232165, -0.00804731]])"
            ]
          },
          "metadata": {},
          "execution_count": 9
        }
      ]
    },
    {
      "cell_type": "code",
      "source": [
        "data[~(names == 'Hasan')] # yuqoridagi cell bilan bir xil"
      ],
      "metadata": {
        "colab": {
          "base_uri": "https://localhost:8080/"
        },
        "id": "It50i66nBkYH",
        "outputId": "8dbee544-0a8f-4ca5-9e47-39b46a023942"
      },
      "execution_count": 10,
      "outputs": [
        {
          "output_type": "execute_result",
          "data": {
            "text/plain": [
              "array([[ 1.46105265,  0.82197193, -0.1709851 , -0.03835451],\n",
              "       [ 0.30206235, -0.72092843, -1.94127293, -1.11370714],\n",
              "       [ 0.78563692,  0.57227399,  1.30874024, -1.33486272],\n",
              "       [-0.31153012,  3.31811973, -1.28405102,  1.15332078],\n",
              "       [ 0.3417003 ,  2.38372316, -1.48442199, -0.93618057],\n",
              "       [ 0.83892115, -1.38342366, -0.53232165, -0.00804731]])"
            ]
          },
          "metadata": {},
          "execution_count": 10
        }
      ]
    },
    {
      "cell_type": "code",
      "source": [
        "print(names)\n",
        "print(data)"
      ],
      "metadata": {
        "colab": {
          "base_uri": "https://localhost:8080/"
        },
        "id": "psNtWFWgDRLu",
        "outputId": "82c32b55-72fa-4c22-aa94-d17f900d2941"
      },
      "execution_count": 17,
      "outputs": [
        {
          "output_type": "stream",
          "name": "stdout",
          "text": [
            "['Hasan' 'Husan' 'Mirzabek' 'Elyor' 'Mansur' 'Javohir' 'Alisher']\n",
            "[[ 0.24228304  2.30128662 -1.17655999 -0.18310711]\n",
            " [ 1.46105265  0.82197193 -0.1709851  -0.03835451]\n",
            " [ 0.30206235 -0.72092843 -1.94127293 -1.11370714]\n",
            " [ 0.78563692  0.57227399  1.30874024 -1.33486272]\n",
            " [-0.31153012  3.31811973 -1.28405102  1.15332078]\n",
            " [ 0.3417003   2.38372316 -1.48442199 -0.93618057]\n",
            " [ 0.83892115 -1.38342366 -0.53232165 -0.00804731]]\n"
          ]
        }
      ]
    },
    {
      "cell_type": "code",
      "source": [
        "mask = (names == 'Hasan') | (names == 'Husan') # ( | ) or yoki\n",
        "mask"
      ],
      "metadata": {
        "colab": {
          "base_uri": "https://localhost:8080/"
        },
        "id": "9hsHyvCCDfyO",
        "outputId": "25f35c7f-4aa1-4c58-d1c2-946018c14733"
      },
      "execution_count": 19,
      "outputs": [
        {
          "output_type": "execute_result",
          "data": {
            "text/plain": [
              "array([ True,  True, False, False, False, False, False])"
            ]
          },
          "metadata": {},
          "execution_count": 19
        }
      ]
    },
    {
      "cell_type": "code",
      "source": [
        "data[mask] # hasan va husanga tegishli malumotlarni beradi"
      ],
      "metadata": {
        "colab": {
          "base_uri": "https://localhost:8080/"
        },
        "id": "0Z6ZwJzKDzBD",
        "outputId": "f6ec1d09-3bd1-4c41-942c-8e3f7573d188"
      },
      "execution_count": 20,
      "outputs": [
        {
          "output_type": "execute_result",
          "data": {
            "text/plain": [
              "array([[ 0.24228304,  2.30128662, -1.17655999, -0.18310711],\n",
              "       [ 1.46105265,  0.82197193, -0.1709851 , -0.03835451]])"
            ]
          },
          "metadata": {},
          "execution_count": 20
        }
      ]
    },
    {
      "cell_type": "code",
      "source": [
        "data\n"
      ],
      "metadata": {
        "colab": {
          "base_uri": "https://localhost:8080/"
        },
        "id": "z4cnaD3EEGgr",
        "outputId": "ac998148-806b-4d62-8687-b80bab5490ec"
      },
      "execution_count": 23,
      "outputs": [
        {
          "output_type": "execute_result",
          "data": {
            "text/plain": [
              "array([[0.24228304, 2.30128662, 0.        , 0.        ],\n",
              "       [1.46105265, 0.82197193, 0.        , 0.        ],\n",
              "       [0.30206235, 0.        , 0.        , 0.        ],\n",
              "       [0.78563692, 0.57227399, 1.30874024, 0.        ],\n",
              "       [0.        , 3.31811973, 0.        , 1.15332078],\n",
              "       [0.3417003 , 2.38372316, 0.        , 0.        ],\n",
              "       [0.83892115, 0.        , 0.        , 0.        ]])"
            ]
          },
          "metadata": {},
          "execution_count": 23
        }
      ]
    },
    {
      "cell_type": "code",
      "source": [
        "data[data<0]=0\n",
        "data"
      ],
      "metadata": {
        "colab": {
          "base_uri": "https://localhost:8080/"
        },
        "id": "HB1MPtYmEVpC",
        "outputId": "31136fab-df93-45cc-8f12-d34ac84f9c74"
      },
      "execution_count": 26,
      "outputs": [
        {
          "output_type": "execute_result",
          "data": {
            "text/plain": [
              "array([[0.24228304, 2.30128662, 0.        , 0.        ],\n",
              "       [1.46105265, 0.82197193, 0.        , 0.        ],\n",
              "       [0.30206235, 0.        , 0.        , 0.        ],\n",
              "       [0.78563692, 0.57227399, 1.30874024, 0.        ],\n",
              "       [0.        , 3.31811973, 0.        , 1.15332078],\n",
              "       [0.3417003 , 2.38372316, 0.        , 0.        ],\n",
              "       [0.83892115, 0.        , 0.        , 0.        ]])"
            ]
          },
          "metadata": {},
          "execution_count": 26
        }
      ]
    },
    {
      "cell_type": "code",
      "source": [],
      "metadata": {
        "id": "47QsFlnVEfU-"
      },
      "execution_count": null,
      "outputs": []
    }
  ]
}