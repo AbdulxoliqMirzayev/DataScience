{
  "nbformat": 4,
  "nbformat_minor": 0,
  "metadata": {
    "colab": {
      "provenance": [],
      "authorship_tag": "ABX9TyN3r6RJrtvUAfhn4IQgCtlh",
      "include_colab_link": true
    },
    "kernelspec": {
      "name": "python3",
      "display_name": "Python 3"
    },
    "language_info": {
      "name": "python"
    }
  },
  "cells": [
    {
      "cell_type": "markdown",
      "metadata": {
        "id": "view-in-github",
        "colab_type": "text"
      },
      "source": [
        "<a href=\"https://colab.research.google.com/github/AbdulxoliqMirzayev/DataScience/blob/main/lesson7_mantiqiy_oerator_DS.ipynb\" target=\"_parent\"><img src=\"https://colab.research.google.com/assets/colab-badge.svg\" alt=\"Open In Colab\"/></a>"
      ]
    },
    {
      "cell_type": "code",
      "execution_count": 1,
      "metadata": {
        "id": "ooRz59JZYeAg"
      },
      "outputs": [],
      "source": [
        "import numpy as np"
      ]
    },
    {
      "cell_type": "markdown",
      "source": [
        "Massivga yonaltirilgan dasturlash.\n",
        "Mantiqiy shart operatorini massiv operatori sifatida qo'llash.\n",
        "Shart operatori sifatida **where** dan foydalanish\n",
        "\n"
      ],
      "metadata": {
        "id": "YAPVfGqtYpRM"
      }
    },
    {
      "cell_type": "markdown",
      "source": [
        " Tassavur qiling bizda ikkita ma'lumotlar (massivlar) mavjud bular. **xarr** va **yarr** . Agarda shart **True**ni qanoatlantirsa **xarr** elementini qabul qilgan aksincha esa **yarr** elementini qabul qilgan yangi massiv hosil qilinsin."
      ],
      "metadata": {
        "id": "xBXYaqQ6ZIQ8"
      }
    },
    {
      "cell_type": "code",
      "source": [
        "# Massivlar\n",
        "xarr = np.array([1.1,1.2,1.3,1.4,1.5]) #xarr\n",
        "yarr = np.array([2.1,2.2,2.3,2.4,2.5]) #yarr"
      ],
      "metadata": {
        "id": "0r_Kq4c0YmBt"
      },
      "execution_count": 2,
      "outputs": []
    },
    {
      "cell_type": "code",
      "source": [
        "# Shart\n",
        "cond = np.array([True, False, True, True, False])"
      ],
      "metadata": {
        "id": "_tMk0MX-aT_9"
      },
      "execution_count": 3,
      "outputs": []
    },
    {
      "cell_type": "code",
      "source": [
        "reult = np.where(cond,xarr,yarr) # cond==True : xarr elementi, cond==False : yarr elementi\n",
        "reult"
      ],
      "metadata": {
        "colab": {
          "base_uri": "https://localhost:8080/"
        },
        "id": "QmBa4MRVapq8",
        "outputId": "1c4dbd72-1125-431a-c7cf-6cd07ea4bd10"
      },
      "execution_count": 4,
      "outputs": [
        {
          "output_type": "execute_result",
          "data": {
            "text/plain": [
              "array([1.1, 2.2, 1.3, 1.4, 2.5])"
            ]
          },
          "metadata": {},
          "execution_count": 4
        }
      ]
    },
    {
      "cell_type": "code",
      "source": [
        "arr = np.random.rand(4,4) # (4 , 4) ga olchamli massiv\n",
        "arr"
      ],
      "metadata": {
        "colab": {
          "base_uri": "https://localhost:8080/"
        },
        "id": "7WDjT5oDbcJp",
        "outputId": "d3fb03e0-fb90-4b50-86ec-82e5660aa00e"
      },
      "execution_count": 5,
      "outputs": [
        {
          "output_type": "execute_result",
          "data": {
            "text/plain": [
              "array([[0.09609405, 0.14409572, 0.62175475, 0.68352023],\n",
              "       [0.25267616, 0.62836153, 0.07232716, 0.9726022 ],\n",
              "       [0.68124415, 0.45155974, 0.17093721, 0.08864171],\n",
              "       [0.57479175, 0.80055446, 0.79878448, 0.62976528]])"
            ]
          },
          "metadata": {},
          "execution_count": 5
        }
      ]
    },
    {
      "cell_type": "code",
      "source": [
        "# where\n",
        "result= np.where(arr<0, -2, 2) # arr ning manviy elementlarini -2 ga musbat 2 ga almawtirish\n",
        "result"
      ],
      "metadata": {
        "colab": {
          "base_uri": "https://localhost:8080/"
        },
        "id": "FMcucssJbrmp",
        "outputId": "5a159bd3-4a3f-4b0f-ba9d-6164442ff6c9"
      },
      "execution_count": 6,
      "outputs": [
        {
          "output_type": "execute_result",
          "data": {
            "text/plain": [
              "array([[2, 2, 2, 2],\n",
              "       [2, 2, 2, 2],\n",
              "       [2, 2, 2, 2],\n",
              "       [2, 2, 2, 2]])"
            ]
          },
          "metadata": {},
          "execution_count": 6
        }
      ]
    },
    {
      "cell_type": "code",
      "source": [
        "arr1 = np.random.randn(5,5) # massiv\n",
        "arr1"
      ],
      "metadata": {
        "colab": {
          "base_uri": "https://localhost:8080/"
        },
        "id": "BzkJFApXcBci",
        "outputId": "22cb9aed-e2b2-42ad-e458-6abd1c1ac965"
      },
      "execution_count": 7,
      "outputs": [
        {
          "output_type": "execute_result",
          "data": {
            "text/plain": [
              "array([[ 0.33548472,  0.12874172,  0.38284165, -2.17985077, -0.54471178],\n",
              "       [ 0.01412571,  0.73168712, -0.46632726, -0.20594898,  0.07315628],\n",
              "       [-0.0039371 , -0.45479045, -1.05828738, -0.58577143,  0.82035143],\n",
              "       [-2.59679041, -0.34269671,  0.55919468,  0.34899993,  0.53910345],\n",
              "       [ 0.37676354, -0.18890909, -0.20572779,  0.94867909, -0.90064399]])"
            ]
          },
          "metadata": {},
          "execution_count": 7
        }
      ]
    },
    {
      "cell_type": "code",
      "source": [
        "results = np.where(arr1 <0, -1, 3)\n",
        "results"
      ],
      "metadata": {
        "colab": {
          "base_uri": "https://localhost:8080/"
        },
        "id": "nIk38iNGcWdA",
        "outputId": "7ff0b9d9-8fec-4833-c7b7-05e9c9075b0a"
      },
      "execution_count": 8,
      "outputs": [
        {
          "output_type": "execute_result",
          "data": {
            "text/plain": [
              "array([[ 3,  3,  3, -1, -1],\n",
              "       [ 3,  3, -1, -1,  3],\n",
              "       [-1, -1, -1, -1,  3],\n",
              "       [-1, -1,  3,  3,  3],\n",
              "       [ 3, -1, -1,  3, -1]])"
            ]
          },
          "metadata": {},
          "execution_count": 8
        }
      ]
    },
    {
      "cell_type": "code",
      "source": [
        "arr2 = np.random.randn(5,5,5)\n",
        "arr2"
      ],
      "metadata": {
        "colab": {
          "base_uri": "https://localhost:8080/"
        },
        "id": "kpaZxDyjckQw",
        "outputId": "0fb87942-003d-4c4a-c57d-79d60662cf22"
      },
      "execution_count": 9,
      "outputs": [
        {
          "output_type": "execute_result",
          "data": {
            "text/plain": [
              "array([[[ 6.59400735e-01, -7.24864931e-01,  5.19836595e-02,\n",
              "         -1.59465615e-01,  3.52853425e-02],\n",
              "        [ 8.27138266e-01,  7.09651884e-01, -6.26416224e-01,\n",
              "          6.85705532e-01,  6.46130470e-02],\n",
              "        [ 1.09242506e+00, -7.11278466e-01, -8.06948714e-02,\n",
              "         -7.02887235e-01, -4.20103041e-01],\n",
              "        [-5.55016172e-02,  1.37261736e+00, -1.07124857e+00,\n",
              "          1.50339252e-01,  4.08718875e-01],\n",
              "        [-1.05928080e+00,  5.19199730e-01, -6.05541402e-01,\n",
              "          1.74955227e+00, -2.40507556e-03]],\n",
              "\n",
              "       [[-3.01683289e-02, -7.36537889e-01,  1.77939447e+00,\n",
              "          2.48305721e+00,  1.00590419e+00],\n",
              "        [-1.93882130e+00,  5.89224149e-02,  8.62706941e-01,\n",
              "          4.21219832e-01, -8.65842354e-01],\n",
              "        [ 1.49323790e+00, -3.66571872e-01, -9.89204799e-01,\n",
              "         -3.13497104e-01,  5.25185961e-03],\n",
              "        [-1.20266953e+00, -1.56874464e+00,  1.34663748e+00,\n",
              "         -6.82094837e-01, -1.80636776e+00],\n",
              "        [ 1.02372684e+00, -1.82118022e+00,  1.75723968e+00,\n",
              "         -2.45098516e+00, -9.49838825e-01]],\n",
              "\n",
              "       [[ 1.07555534e+00,  2.50150783e+00, -1.37226140e+00,\n",
              "         -2.10209390e+00,  3.67828951e-01],\n",
              "        [-2.15644200e-01, -1.63268600e-01, -1.03284083e+00,\n",
              "          1.46217317e-01,  2.07710184e+00],\n",
              "        [-1.35266796e-01,  8.20881804e-02,  1.57939209e-01,\n",
              "         -1.03415529e+00, -1.07474177e+00],\n",
              "        [ 8.03969838e-01, -2.25298330e-01,  3.99448313e-01,\n",
              "          5.07954623e-01, -1.43829364e+00],\n",
              "        [-1.22738997e+00,  3.31447714e-02, -4.32825159e-01,\n",
              "         -8.26170758e-01, -9.36738603e-01]],\n",
              "\n",
              "       [[-2.19638567e+00, -1.31765635e+00, -2.29107188e+00,\n",
              "         -1.40613406e+00,  1.26017143e+00],\n",
              "        [ 9.30866896e-01,  3.12652924e+00, -3.21104459e-01,\n",
              "          1.40419714e+00, -2.71187235e+00],\n",
              "        [-1.54022476e+00,  2.03259845e+00, -6.92715483e-01,\n",
              "          1.94578488e-01, -8.98483039e-01],\n",
              "        [ 8.90018663e-01, -9.54594648e-01,  1.22243412e+00,\n",
              "          2.31769963e+00, -1.23801983e+00],\n",
              "        [-4.46930457e-01,  4.36005031e-01, -3.49598270e-01,\n",
              "         -9.08485727e-01,  8.20185509e-01]],\n",
              "\n",
              "       [[ 1.70471761e+00, -1.36355912e-01,  1.00715663e+00,\n",
              "         -4.17024842e-02,  1.38546873e+00],\n",
              "        [ 1.02401872e+00, -2.89465323e-01,  3.00266557e-01,\n",
              "          6.92236747e-01,  1.83257905e+00],\n",
              "        [ 9.52860044e-01, -3.96568566e-01,  1.29756628e+00,\n",
              "         -1.15350562e+00, -5.99468790e-01],\n",
              "        [-2.32196403e+00,  9.65351518e-02,  8.03791961e-01,\n",
              "         -6.31065522e-01,  5.13541501e-01],\n",
              "        [ 1.02566109e+00,  1.16739319e+00, -1.19511828e+00,\n",
              "          1.97910287e-01, -2.07191496e+00]]])"
            ]
          },
          "metadata": {},
          "execution_count": 9
        }
      ]
    },
    {
      "cell_type": "code",
      "source": [
        "result1 = np.where(arr2 <0, -5, 9)\n",
        "result1"
      ],
      "metadata": {
        "colab": {
          "base_uri": "https://localhost:8080/"
        },
        "id": "wM_87_1UcsjN",
        "outputId": "28c0bbe3-d3a8-4607-b741-af5f7f35e00b"
      },
      "execution_count": 10,
      "outputs": [
        {
          "output_type": "execute_result",
          "data": {
            "text/plain": [
              "array([[[ 9, -5,  9, -5,  9],\n",
              "        [ 9,  9, -5,  9,  9],\n",
              "        [ 9, -5, -5, -5, -5],\n",
              "        [-5,  9, -5,  9,  9],\n",
              "        [-5,  9, -5,  9, -5]],\n",
              "\n",
              "       [[-5, -5,  9,  9,  9],\n",
              "        [-5,  9,  9,  9, -5],\n",
              "        [ 9, -5, -5, -5,  9],\n",
              "        [-5, -5,  9, -5, -5],\n",
              "        [ 9, -5,  9, -5, -5]],\n",
              "\n",
              "       [[ 9,  9, -5, -5,  9],\n",
              "        [-5, -5, -5,  9,  9],\n",
              "        [-5,  9,  9, -5, -5],\n",
              "        [ 9, -5,  9,  9, -5],\n",
              "        [-5,  9, -5, -5, -5]],\n",
              "\n",
              "       [[-5, -5, -5, -5,  9],\n",
              "        [ 9,  9, -5,  9, -5],\n",
              "        [-5,  9, -5,  9, -5],\n",
              "        [ 9, -5,  9,  9, -5],\n",
              "        [-5,  9, -5, -5,  9]],\n",
              "\n",
              "       [[ 9, -5,  9, -5,  9],\n",
              "        [ 9, -5,  9,  9,  9],\n",
              "        [ 9, -5,  9, -5, -5],\n",
              "        [-5,  9,  9, -5,  9],\n",
              "        [ 9,  9, -5,  9, -5]]])"
            ]
          },
          "metadata": {},
          "execution_count": 10
        }
      ]
    },
    {
      "cell_type": "code",
      "source": [],
      "metadata": {
        "id": "FLKvKFZAdBj1"
      },
      "execution_count": null,
      "outputs": []
    }
  ]
}