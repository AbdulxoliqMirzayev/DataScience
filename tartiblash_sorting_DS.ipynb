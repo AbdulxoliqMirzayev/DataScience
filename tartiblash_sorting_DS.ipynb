{
  "nbformat": 4,
  "nbformat_minor": 0,
  "metadata": {
    "colab": {
      "provenance": [],
      "authorship_tag": "ABX9TyOj4pG8HuO8KLnLe+pibI3h",
      "include_colab_link": true
    },
    "kernelspec": {
      "name": "python3",
      "display_name": "Python 3"
    },
    "language_info": {
      "name": "python"
    }
  },
  "cells": [
    {
      "cell_type": "markdown",
      "metadata": {
        "id": "view-in-github",
        "colab_type": "text"
      },
      "source": [
        "<a href=\"https://colab.research.google.com/github/AbdulxoliqMirzayev/DataScience/blob/main/tartiblash_sorting_DS.ipynb\" target=\"_parent\"><img src=\"https://colab.research.google.com/assets/colab-badge.svg\" alt=\"Open In Colab\"/></a>"
      ]
    },
    {
      "cell_type": "code",
      "execution_count": 1,
      "metadata": {
        "id": "_fAQDdDzj7Li"
      },
      "outputs": [],
      "source": [
        "import numpy as np"
      ]
    },
    {
      "cell_type": "markdown",
      "source": [
        "Tartiblash (**sorting**)"
      ],
      "metadata": {
        "id": "RUX48Z_FkL0G"
      }
    },
    {
      "cell_type": "code",
      "source": [
        "# data\n",
        "arr = np.random.randn(4) # 4 ta taxminiy elementlardan tawkil topgan massi\n",
        "arr"
      ],
      "metadata": {
        "colab": {
          "base_uri": "https://localhost:8080/"
        },
        "id": "6-IoF-P3kIqs",
        "outputId": "df572432-2699-4f69-a02d-e45655840417"
      },
      "execution_count": 3,
      "outputs": [
        {
          "output_type": "execute_result",
          "data": {
            "text/plain": [
              "array([-0.54035116,  1.40908976,  0.37564489, -0.88077029])"
            ]
          },
          "metadata": {},
          "execution_count": 3
        }
      ]
    },
    {
      "cell_type": "markdown",
      "source": [
        "**sort** funksiyasi"
      ],
      "metadata": {
        "id": "df--hqmvkmEn"
      }
    },
    {
      "cell_type": "code",
      "source": [
        "sorted_arr = np.sort(arr) # arr massivning tartiblangan versiyasi"
      ],
      "metadata": {
        "id": "R-P7Ro7ykRWx"
      },
      "execution_count": 4,
      "outputs": []
    },
    {
      "cell_type": "code",
      "source": [
        "sorted_arr"
      ],
      "metadata": {
        "colab": {
          "base_uri": "https://localhost:8080/"
        },
        "id": "_HdvU7Xgk5fI",
        "outputId": "da12ae80-cc6b-472a-8196-8e8a12cd4e1c"
      },
      "execution_count": 5,
      "outputs": [
        {
          "output_type": "execute_result",
          "data": {
            "text/plain": [
              "array([-0.88077029, -0.54035116,  0.37564489,  1.40908976])"
            ]
          },
          "metadata": {},
          "execution_count": 5
        }
      ]
    },
    {
      "cell_type": "code",
      "source": [
        "# 2 usul\n",
        "arr.sort() # arr ning tartiblangan korinishi\n",
        "arr"
      ],
      "metadata": {
        "colab": {
          "base_uri": "https://localhost:8080/"
        },
        "id": "fRknbGySk8L5",
        "outputId": "9919503c-2170-4e18-c0b3-ab7d8d46cc48"
      },
      "execution_count": 6,
      "outputs": [
        {
          "output_type": "execute_result",
          "data": {
            "text/plain": [
              "array([-0.88077029, -0.54035116,  0.37564489,  1.40908976])"
            ]
          },
          "metadata": {},
          "execution_count": 6
        }
      ]
    },
    {
      "cell_type": "code",
      "source": [
        "# teskari tartiblash\n",
        "rev_arr = -np.sort(-arr) # bu teskari tarkibdagi arr\n",
        "rev_arr"
      ],
      "metadata": {
        "colab": {
          "base_uri": "https://localhost:8080/"
        },
        "id": "f-XU6pLJlNxn",
        "outputId": "113ebd69-06bb-46c6-db8b-6e0692f85cd6"
      },
      "execution_count": 8,
      "outputs": [
        {
          "output_type": "execute_result",
          "data": {
            "text/plain": [
              "array([ 1.40908976,  0.37564489, -0.54035116, -0.88077029])"
            ]
          },
          "metadata": {},
          "execution_count": 8
        }
      ]
    },
    {
      "cell_type": "code",
      "source": [
        "# 2 D array (massiv)\n",
        "arr2d = np.random.randn(2,4 ) # (2, 4 ) random massiv\n",
        "arr2d"
      ],
      "metadata": {
        "colab": {
          "base_uri": "https://localhost:8080/"
        },
        "id": "RvNXaAuflgI-",
        "outputId": "a8377b3b-9b35-44ac-b227-f25e5517c143"
      },
      "execution_count": 11,
      "outputs": [
        {
          "output_type": "execute_result",
          "data": {
            "text/plain": [
              "array([[ 0.62113226,  0.99162937, -0.26906581, -1.56218858],\n",
              "       [-0.83568802, -0.85965447, -0.47987434,  0.28723305]])"
            ]
          },
          "metadata": {},
          "execution_count": 11
        }
      ]
    },
    {
      "cell_type": "code",
      "source": [
        "# axis = 0 --> Qator\n",
        "row_srt = np.sort(arr2d, axis =0) # arr2d har bir qator boyicha tartiublangan massiv\n",
        "row_srt"
      ],
      "metadata": {
        "colab": {
          "base_uri": "https://localhost:8080/"
        },
        "id": "V7xvCnzylwUm",
        "outputId": "eaac45b6-db41-49d5-e2b3-b1da46a6dd3d"
      },
      "execution_count": 12,
      "outputs": [
        {
          "output_type": "execute_result",
          "data": {
            "text/plain": [
              "array([[-0.83568802, -0.85965447, -0.47987434, -1.56218858],\n",
              "       [ 0.62113226,  0.99162937, -0.26906581,  0.28723305]])"
            ]
          },
          "metadata": {},
          "execution_count": 12
        }
      ]
    },
    {
      "cell_type": "code",
      "source": [
        "col1 = np.sort(arr2d, axis = 1) # arr2d sutun boyicha tartiblangan massiv\n",
        "col1"
      ],
      "metadata": {
        "colab": {
          "base_uri": "https://localhost:8080/"
        },
        "id": "Vkqrma88mn4M",
        "outputId": "59eabb0e-fcb5-43d4-9988-e5240858e646"
      },
      "execution_count": 16,
      "outputs": [
        {
          "output_type": "execute_result",
          "data": {
            "text/plain": [
              "array([[-1.56218858, -0.26906581,  0.62113226,  0.99162937],\n",
              "       [-0.85965447, -0.83568802, -0.47987434,  0.28723305]])"
            ]
          },
          "metadata": {},
          "execution_count": 16
        }
      ]
    },
    {
      "cell_type": "code",
      "source": [
        "col = -np.sort(-arr2d, axis=1)\n",
        "col"
      ],
      "metadata": {
        "colab": {
          "base_uri": "https://localhost:8080/"
        },
        "id": "kzoojqRonJpz",
        "outputId": "4e4f2234-0711-4ba1-8b74-205e9f88357d"
      },
      "execution_count": 18,
      "outputs": [
        {
          "output_type": "execute_result",
          "data": {
            "text/plain": [
              "array([[ 0.99162937,  0.62113226, -0.26906581, -1.56218858],\n",
              "       [ 0.28723305, -0.47987434, -0.83568802, -0.85965447]])"
            ]
          },
          "metadata": {},
          "execution_count": 18
        }
      ]
    },
    {
      "cell_type": "code",
      "source": [
        "son = -np.sort(-arr2d, axis = 0)\n",
        "arr2d"
      ],
      "metadata": {
        "colab": {
          "base_uri": "https://localhost:8080/"
        },
        "id": "mxdvzeDCneUw",
        "outputId": "d70525d0-fed4-441c-f6bc-36abca604928"
      },
      "execution_count": 19,
      "outputs": [
        {
          "output_type": "execute_result",
          "data": {
            "text/plain": [
              "array([[ 0.62113226,  0.99162937, -0.26906581, -1.56218858],\n",
              "       [-0.83568802, -0.85965447, -0.47987434,  0.28723305]])"
            ]
          },
          "metadata": {},
          "execution_count": 19
        }
      ]
    },
    {
      "cell_type": "code",
      "source": [],
      "metadata": {
        "id": "MbAykozFnypt"
      },
      "execution_count": null,
      "outputs": []
    }
  ]
}