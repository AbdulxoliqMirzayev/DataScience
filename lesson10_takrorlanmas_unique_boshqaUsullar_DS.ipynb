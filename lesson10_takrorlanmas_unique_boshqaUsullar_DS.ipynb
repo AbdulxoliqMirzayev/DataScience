{
  "nbformat": 4,
  "nbformat_minor": 0,
  "metadata": {
    "colab": {
      "provenance": [],
      "authorship_tag": "ABX9TyOHQ0vQOkzTGELvdWj357ox",
      "include_colab_link": true
    },
    "kernelspec": {
      "name": "python3",
      "display_name": "Python 3"
    },
    "language_info": {
      "name": "python"
    }
  },
  "cells": [
    {
      "cell_type": "markdown",
      "metadata": {
        "id": "view-in-github",
        "colab_type": "text"
      },
      "source": [
        "<a href=\"https://colab.research.google.com/github/AbdulxoliqMirzayev/DataScience/blob/main/lesson10_takrorlanmas_unique_boshqaUsullar_DS.ipynb\" target=\"_parent\"><img src=\"https://colab.research.google.com/assets/colab-badge.svg\" alt=\"Open In Colab\"/></a>"
      ]
    },
    {
      "cell_type": "code",
      "execution_count": 1,
      "metadata": {
        "id": "WfFIVBW9oGSi"
      },
      "outputs": [],
      "source": [
        "import numpy as np"
      ]
    },
    {
      "cell_type": "markdown",
      "source": [
        "**unique** va **in1d** **setdiff1d** va boshqa usullar haqida"
      ],
      "metadata": {
        "id": "4wDx9538okW-"
      }
    },
    {
      "cell_type": "code",
      "source": [
        "# data\n",
        "names = np.array(['Sarvar', 'Abdurahmon', 'Hasan', 'Temur', 'Sarvar','Temur'])\n",
        "ints = np.array([3,3,3,2,2,1,1,4,4])"
      ],
      "metadata": {
        "id": "t4hgO9eGoV_R"
      },
      "execution_count": 2,
      "outputs": []
    },
    {
      "cell_type": "code",
      "source": [
        "# uniqe methodi\n",
        "np.unique(names) # namesdagi takrorlanmas elementlarni qaytaradi takrorlansa ham bittasini qaytaradi\n"
      ],
      "metadata": {
        "colab": {
          "base_uri": "https://localhost:8080/"
        },
        "id": "Z2DA1eeipN8u",
        "outputId": "4e0058cf-96b0-4610-bbb9-591807bcf2b5"
      },
      "execution_count": 3,
      "outputs": [
        {
          "output_type": "execute_result",
          "data": {
            "text/plain": [
              "array(['Abdurahmon', 'Hasan', 'Sarvar', 'Temur'], dtype='<U10')"
            ]
          },
          "metadata": {},
          "execution_count": 3
        }
      ]
    },
    {
      "cell_type": "code",
      "source": [
        "set(names) # namesdagi unique (takrorlanmas) elementlarni qaytaradi\n"
      ],
      "metadata": {
        "colab": {
          "base_uri": "https://localhost:8080/"
        },
        "id": "R9Rp-8U9pjpJ",
        "outputId": "102b41a2-fd40-4ce1-c44a-b1467abf2286"
      },
      "execution_count": 4,
      "outputs": [
        {
          "output_type": "execute_result",
          "data": {
            "text/plain": [
              "{'Abdurahmon', 'Hasan', 'Sarvar', 'Temur'}"
            ]
          },
          "metadata": {},
          "execution_count": 4
        }
      ]
    },
    {
      "cell_type": "code",
      "source": [
        "# data\n",
        "arr1 = np.array([6,0,0,3,2,5,6])\n",
        "arr2 = np.array([0,2,3])"
      ],
      "metadata": {
        "id": "Ky7W0ybpp9XZ"
      },
      "execution_count": 5,
      "outputs": []
    },
    {
      "cell_type": "code",
      "source": [
        "np.in1d(arr1,arr2) #arr2 dagi elementlarin arr1 da mavjudligni tekshirish"
      ],
      "metadata": {
        "colab": {
          "base_uri": "https://localhost:8080/"
        },
        "id": "WanYgPsgqRSf",
        "outputId": "266c3bb5-feff-4461-997d-111ca992c58d"
      },
      "execution_count": 6,
      "outputs": [
        {
          "output_type": "execute_result",
          "data": {
            "text/plain": [
              "array([False,  True,  True,  True,  True, False, False])"
            ]
          },
          "metadata": {},
          "execution_count": 6
        }
      ]
    },
    {
      "cell_type": "markdown",
      "source": [
        "**satdiff1d** usuli haqida"
      ],
      "metadata": {
        "id": "BPMmHLTwqt4M"
      }
    },
    {
      "cell_type": "code",
      "source": [
        "# data\n",
        "names1= np.array(['Jasur', 'Abdurahmon', 'Hasan', 'Muhammad', 'Sarvar','Temur'])\n",
        "names2 = np.array(['Sarvar', 'Abdurahmon', 'Hasan', 'Temur', 'Sarvar','Temur'])\n"
      ],
      "metadata": {
        "id": "t0zaa5Oiqf-R"
      },
      "execution_count": 9,
      "outputs": []
    },
    {
      "cell_type": "code",
      "source": [
        "np.setdiff1d(names1, names2) # names1 massivning names2 massividagi takrorlanmas qismini qaytaradi"
      ],
      "metadata": {
        "colab": {
          "base_uri": "https://localhost:8080/"
        },
        "id": "9GpVUkbvrIi4",
        "outputId": "ebac9018-c000-45e4-9211-0b5d519cd5cb"
      },
      "execution_count": 10,
      "outputs": [
        {
          "output_type": "execute_result",
          "data": {
            "text/plain": [
              "array(['Jasur', 'Muhammad'], dtype='<U10')"
            ]
          },
          "metadata": {},
          "execution_count": 10
        }
      ]
    },
    {
      "cell_type": "code",
      "source": [],
      "metadata": {
        "id": "XYPdMRunrZ8O"
      },
      "execution_count": null,
      "outputs": []
    }
  ]
}